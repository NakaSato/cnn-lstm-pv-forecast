{
 "cells": [
  {
   "cell_type": "code",
   "execution_count": 1,
   "id": "ea9d9eb9",
   "metadata": {},
   "outputs": [],
   "source": [
    "import pandas as pd\n",
    "import numpy as np\n",
    "import matplotlib.pyplot as plt"
   ]
  },
  {
   "cell_type": "code",
   "execution_count": 8,
   "id": "f791d413",
   "metadata": {},
   "outputs": [
    {
     "name": "stdout",
     "output_type": "stream",
     "text": [
      "             Timestamp        Date      Time  AC_Power  DC_Power  Voltage_AC  \\\n",
      "0  2025-04-04 00:01:56  2025-04-04  00:01:56       0.0    0.0055       230.0   \n",
      "1  2025-04-04 00:04:01  2025-04-04  00:04:01       0.0    0.0055       229.6   \n",
      "2  2025-04-04 00:06:15  2025-04-04  00:06:15       0.0    0.0055       229.9   \n",
      "3  2025-04-04 00:08:19  2025-04-04  00:08:19       0.0    0.0110       230.0   \n",
      "4  2025-04-04 00:10:26  2025-04-04  00:10:26       0.0    0.0055       230.0   \n",
      "\n",
      "   Current_AC  Frequency  Efficiency  Status_Flags  \n",
      "0         0.0       49.9           1             0  \n",
      "1         0.0       49.9           1             0  \n",
      "2         0.0       50.0           1             0  \n",
      "3         0.0       50.0           1             0  \n",
      "4         0.0       50.0           1             0  \n"
     ]
    }
   ],
   "source": [
    "# Load the data\n",
    "df = pd.read_csv('./inverters/processed/processed_INVERTER_01_2025-04-04_2025-04-05_cleaned.csv',\n",
    "         parse_dates=['Time'],\n",
    "         date_format='%Y-%m-%d %H:%M:%S',\n",
    "         low_memory=False)\n",
    "# Check for missing values\n",
    "print(df.head())"
   ]
  }
 ],
 "metadata": {
  "kernelspec": {
   "display_name": "env",
   "language": "python",
   "name": "python3"
  },
  "language_info": {
   "codemirror_mode": {
    "name": "ipython",
    "version": 3
   },
   "file_extension": ".py",
   "mimetype": "text/x-python",
   "name": "python",
   "nbconvert_exporter": "python",
   "pygments_lexer": "ipython3",
   "version": "3.12.7"
  }
 },
 "nbformat": 4,
 "nbformat_minor": 5
}
